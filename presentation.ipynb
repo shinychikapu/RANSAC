{
 "cells": [
  {
   "cell_type": "code",
   "execution_count": 54,
   "metadata": {},
   "outputs": [],
   "source": [
    "import numpy as np\n",
    "from numpy.random import default_rng\n",
    "import matplotlib.pyplot as plt\n",
    "import random\n",
    "import itertools as iter"
   ]
  },
  {
   "attachments": {},
   "cell_type": "markdown",
   "metadata": {},
   "source": [
    "**Loss Function**"
   ]
  },
  {
   "cell_type": "code",
   "execution_count": 55,
   "metadata": {},
   "outputs": [],
   "source": [
    "def sel(y, yhat):\n",
    "    return (yhat - y)**2"
   ]
  },
  {
   "attachments": {},
   "cell_type": "markdown",
   "metadata": {},
   "source": [
    "**Procedures (Least Squares Method)**"
   ]
  },
  {
   "cell_type": "code",
   "execution_count": 56,
   "metadata": {},
   "outputs": [],
   "source": [
    "class Least_Square():\n",
    "    def __init__(self):\n",
    "        self.params = None\n",
    "    def fit(self, X, Y):\n",
    "        if len(X) != len(Y):\n",
    "            raise ValueError(\"X and Y must have the same length.\")\n",
    "        #y = mx + c = Ap, where A = [[x, 1]] and p = [[m], [c]]\n",
    "        A = np.vstack([X, np.ones(len(X))]).T\n",
    "        self.m, self.c = np.linalg.lstsq(A, Y, rcond=None)[0]\n",
    "        #return the model object\n",
    "        return self\n",
    "    \n",
    "    def fit_plane(self, X, Y, Z):\n",
    "        if len(X) != len(Y) or len(Z) != len(Y):\n",
    "            raise ValueError(\"X, Y, Z must have the same length.\")\n",
    "        \n",
    "        # aX + bY + c = Z \n",
    "        # AX = B, where A = [[X, Y, 1]] and X = [[a], [b], [c]] and B = Z\n",
    "        A = np.vstack([X, Y, np.ones(len(X))]).T #transpose to get column vector\n",
    "        self.a, self.b, self.c = np.linalg.lstsq(A, Z, rcond=None)[0]\n",
    "        return self\n",
    "    \n",
    "    def predict(self, X: np.array):\n",
    "        prediction =  X * self.m + self.c\n",
    "        return prediction\n",
    "    \n",
    "    def predict_plane(self, X, Y):\n",
    "        Z = X * self.a + Y * self.b + self.c\n",
    "        return Z\n",
    "\n",
    "    "
   ]
  },
  {
   "attachments": {},
   "cell_type": "markdown",
   "metadata": {},
   "source": [
    "**RANSAC**"
   ]
  },
  {
   "cell_type": "code",
   "execution_count": 57,
   "metadata": {},
   "outputs": [],
   "source": [
    "class RANSAC():\n",
    "    def __init__(self,  model, loss_fun, n = 5, k = 500, t = None):\n",
    "        '''This is the constructor for the ransac object.\n",
    "\n",
    "        Attribute\n",
    "        ------------\n",
    "        model: model object implementing fit and predict\n",
    "        loss: a loss function to assert model fit\n",
    "        n : Minimum number of data points to estimate the parameters\n",
    "        k : maximum iterations allowed\n",
    "        t : threshold value to determine if point are fit well, if not provided will automatically use percentile\n",
    "        percentile: percentile of error if want to use value other than 95\n",
    "        '''\n",
    "\n",
    "        self.model = model\n",
    "        self.loss_fun = loss_fun\n",
    "        self.n = n\n",
    "        self.t = t\n",
    "        self.k = k\n",
    "        self.bestFit = None\n",
    "        self.x_inliers = []\n",
    "        self.y_inliers = []\n",
    "        self.z_inliers = []\n",
    "        self.mostInlnliers = 0\n",
    "\n",
    "    #line fit\n",
    "    def fit(self, X, Y):\n",
    "        for i in range(self.k):\n",
    "            randomIDs = np.random.randint(0, len(X), self.n) #get n random IDs\n",
    "            #sampling random points\n",
    "            maybeInliersX = X[randomIDs]\n",
    "            maybeInliersY = Y[randomIDs]\n",
    "\n",
    "            #fit model\n",
    "            maybeModel = self.model.fit(maybeInliersX, maybeInliersY)\n",
    "\n",
    "            #fit remaining points to model\n",
    "            yhat = maybeModel.predict(X) \n",
    "            loss = self.loss_fun(Y, yhat)\n",
    "            \n",
    "            #Choose threshold if t is not provided then use 1 mad (median average deviation) as threshold\n",
    "            #median is better when dealing with outlier than mean\n",
    "            if self.t ==  None:\n",
    "                threshold = np.sum(np.abs(loss - np.mean(loss))) / len(loss)\n",
    "            else: \n",
    "                threshold = self.t\n",
    "\n",
    "            #get the inliers\n",
    "            inliersX = np.asarray([X[e] for e in range(len(loss)) if loss[e] < threshold])\n",
    "            inliersY = np.asarray([Y[e] for e in range(len(loss)) if loss[e] < threshold])\n",
    "\n",
    "            #check if have sufficient inliers\n",
    "            if len(inliersX) > self.mostInlnliers and len(inliersX) >= self.n:\n",
    "                #store the inliers\n",
    "                self.x_inliers = inliersX #inliers\n",
    "                self.y_inliers = inliersY #inliers\n",
    "                self.mostInlnliers = len(inliersX)\n",
    "            #store model\n",
    "            self.bestFit = self.model.fit(self.x_inliers, self.y_inliers) \n",
    "                         \n",
    "        return self\n",
    "    \n",
    "    #plane fit\n",
    "    def fit_3d(self, X, Y, Z):\n",
    "        for i in range(self.k):\n",
    "            randomIDs = random.sample(range(0, len(X)), self.n) #get n random IDs\n",
    "\n",
    "            #sampling random points\n",
    "            maybeInliersX = np.asarray([X[e] for e in (randomIDs)])\n",
    "            maybeInliersY = np.asarray([Y[e] for e in (randomIDs)])\n",
    "            maybeInliersZ = np.asarray([Z[e] for e in (randomIDs)])\n",
    "\n",
    "            #fit model\n",
    "            maybeModel = self.model.fit_plane(maybeInliersY, maybeInliersX, maybeInliersZ)\n",
    "\n",
    "            #fit remaining points to model\n",
    "            zhat = maybeModel.predict_plane(X, Y) \n",
    "            loss = self.loss_fun(Z, zhat)\n",
    "\n",
    "            #Choose threshold if t is not provided then use 1 sd from error mean\n",
    "            if self.t ==  None:\n",
    "                threshold = np.sum(np.abs(loss - np.median(loss)))/len(loss)\n",
    "            else:\n",
    "                threshold = self.t\n",
    "\n",
    "            #get the inliers\n",
    "            inliersX = np.asarray([X[e] for e in range(len(loss)) if loss[e] < threshold])\n",
    "            inliersY = np.asarray([Y[e] for e in range(len(loss)) if loss[e] < threshold])\n",
    "            inliersZ = np.asarray([Z[e] for e in range(len(loss)) if loss[e] < threshold])\n",
    "\n",
    "            #check if have sufficient inlier\n",
    "            if len(inliersX) >= self.mostInlnliers and len(inliersX) >= self.n:\n",
    "                #store the inliers\n",
    "                self.x_inliers = inliersX \n",
    "                self.y_inliers = inliersY\n",
    "                self.z_inliers = inliersZ \n",
    "                self.mostInlnliers = len(inliersX)\n",
    "            #store model\n",
    "            self.bestFit = self.model.fit_plane(self.x_inliers, self.y_inliers, self.z_inliers)\n",
    "         \n",
    "        return self\n"
   ]
  },
  {
   "attachments": {},
   "cell_type": "markdown",
   "metadata": {},
   "source": [
    "**Demonstration using dummy data**"
   ]
  },
  {
   "cell_type": "code",
   "execution_count": 58,
   "metadata": {},
   "outputs": [
    {
     "data": {
      "text/plain": [
       "[<matplotlib.lines.Line2D at 0x1d086d30bb0>]"
      ]
     },
     "execution_count": 58,
     "metadata": {},
     "output_type": "execute_result"
    },
    {
     "data": {
      "image/png": "[encoded data removed]",
      "text/plain": [
       "<Figure size 640x480 with 1 Axes>"
      ]
     },
     "metadata": {},
     "output_type": "display_data"
    }
   ],
   "source": [
    "#Dummy data\n",
    "np.random.seed(707)\n",
    "\n",
    "#define slope and intercept\n",
    "slope = 1\n",
    "intercept = 0\n",
    "\n",
    "#get the data with the trend\n",
    "x_ = np.random.uniform(0,100,75) #75 points\n",
    "y_ = slope * x_ + intercept\n",
    "noises = np.random.uniform(0, 5, 75)\n",
    "y_ = y_ + noises\n",
    "#generate noises\n",
    "noise_x = np.random.uniform(0, 100, 25)\n",
    "noise_y = np.random.uniform(0, 100, 25)\n",
    "x = np.append(x_, noise_x)\n",
    "y = np.append(y_, noise_y)\n",
    "\n",
    "fig, data = plt.subplots()\n",
    "data.plot(x, y,'o') #data points\n",
    "data.plot(x_, y_, 'ro') #inliers\n",
    "data.plot(x, slope* x + intercept, 'k-')"
   ]
  },
  {
   "attachments": {},
   "cell_type": "markdown",
   "metadata": {},
   "source": [
    "RANSAC Fitting\n"
   ]
  },
  {
   "cell_type": "code",
   "execution_count": 59,
   "metadata": {},
   "outputs": [],
   "source": [
    "ransac_op = RANSAC(model = Least_Square(), \n",
    "                   loss_fun = sel, \n",
    "                    k = 1000,\n",
    "                    n = 2\n",
    "                    )"
   ]
  },
  {
   "cell_type": "code",
   "execution_count": 60,
   "metadata": {},
   "outputs": [],
   "source": [
    "ransac_mod = ransac_op.fit(x,y)"
   ]
  },
  {
   "cell_type": "code",
   "execution_count": 61,
   "metadata": {},
   "outputs": [
    {
     "data": {
      "text/plain": [
       "(84,)"
      ]
     },
     "execution_count": 61,
     "metadata": {},
     "output_type": "execute_result"
    }
   ],
   "source": [
    "ransac_mod.x_inliers.shape"
   ]
  },
  {
   "attachments": {},
   "cell_type": "markdown",
   "metadata": {},
   "source": [
    "Least Squares Fit to compare"
   ]
  },
  {
   "cell_type": "code",
   "execution_count": 62,
   "metadata": {},
   "outputs": [
    {
     "data": {
      "text/plain": [
       "<__main__.Least_Square at 0x1d087699c60>"
      ]
     },
     "execution_count": 62,
     "metadata": {},
     "output_type": "execute_result"
    }
   ],
   "source": [
    "lm = Least_Square()\n",
    "lm.fit(x, y)"
   ]
  },
  {
   "attachments": {},
   "cell_type": "markdown",
   "metadata": {},
   "source": [
    "**Visualization**"
   ]
  },
  {
   "cell_type": "code",
   "execution_count": 63,
   "metadata": {},
   "outputs": [
    {
     "data": {
      "text/plain": [
       "<matplotlib.legend.Legend at 0x1d0877cbd00>"
      ]
     },
     "execution_count": 63,
     "metadata": {},
     "output_type": "execute_result"
    },
    {
     "data": {
      "image/png": "[encoded data removed]",
      "text/plain": [
       "<Figure size 640x480 with 1 Axes>"
      ]
     },
     "metadata": {},
     "output_type": "display_data"
    }
   ],
   "source": [
    "yval = ransac_mod.bestFit.predict(x) #ransac's\n",
    "y_lm = lm.predict(x) #least squares\n",
    "plt.scatter(x, y) #all points\n",
    "plt.plot(ransac_mod.x_inliers, ransac_mod.y_inliers, 'ro', label = 'RANSAC Inliers') #inliers\n",
    "plt.plot(x, yval, 'g-', label = \"RANSAC\")\n",
    "plt.plot(x, slope* x + intercept, 'k-', label = \"Actual line\")\n",
    "plt.plot(x, y_lm, 'm-', label = \"Least Square Line\")\n",
    "plt.legend()"
   ]
  },
  {
   "attachments": {},
   "cell_type": "markdown",
   "metadata": {},
   "source": [
    "**3D fitting**"
   ]
  },
  {
   "cell_type": "code",
   "execution_count": 64,
   "metadata": {},
   "outputs": [],
   "source": [
    "np.random.seed(22)\n",
    "#setting the trend\n",
    "a = 1\n",
    "b = 2\n",
    "c = 3\n",
    "\n",
    "#inliers\n",
    "x_ = np.random.uniform(0, 100, 75)\n",
    "y_ = np.random.uniform(0, 100, 75)\n",
    "noises = np.random.uniform(0, 5, 75)\n",
    "z_ = a * x_ + b * y_ + c + noises\n",
    "\n",
    "#outliers\n",
    "x_noises = np.random.uniform(0,100,25)\n",
    "y_noises = np.random.uniform(0,100,25)\n",
    "z_noises = np.random.uniform(0,100,25)\n",
    "\n",
    "#full dataset\n",
    "x = np.append(x_, x_noises)\n",
    "y = np.append(y_, y_noises)\n",
    "z = np.append(z_, z_noises)\n",
    "\n",
    "#Least square line\n",
    "lsq = Least_Square()\n",
    "lsq.fit_plane(x, y, z)\n",
    "zhat = lsq.predict_plane(x, y)\n",
    "\n",
    "xx, yy = np.meshgrid(x, y)\n",
    "zz = lsq.a * xx + lsq.b * yy + lsq.c\n",
    "\n",
    "xxx, yyy, zzz = np.meshgrid(x, y, z)\n",
    "\n",
    "#real plane\n",
    "zreal = a*xx + b*yy + c\n"
   ]
  },
  {
   "attachments": {},
   "cell_type": "markdown",
   "metadata": {},
   "source": [
    "Checking the data"
   ]
  },
  {
   "cell_type": "code",
   "execution_count": 48,
   "metadata": {},
   "outputs": [
    {
     "data": {
      "text/plain": [
       "array([20.84605374, 48.16810618, 42.05380353, 85.91819985, 17.11615536,\n",
       "       33.88639606, 27.05328333, 69.10413504, 22.04045166, 81.19509205,\n",
       "        1.05268743, 56.12036967, 81.37261874, 74.51002961, 18.91113553,\n",
       "        0.61408663, 77.20438714, 95.78321681, 70.19378841, 29.75782669,\n",
       "       76.7992742 , 68.82183249, 38.71834804, 61.52058251, 42.75552398,\n",
       "       58.42896432, 70.26355189, 11.18951719, 92.32699258, 98.88862739,\n",
       "       67.74107735, 79.51647755,  2.90763493, 17.7759071 , 87.49277453,\n",
       "       74.49320774, 50.80901632, 12.83339018, 48.42842385, 51.57734878,\n",
       "       31.12646634,  4.56615426, 43.76806601,  9.58846099,  4.52101119,\n",
       "       68.48287187, 84.91907452, 12.52071832, 12.90640072, 47.30600021,\n",
       "       19.75585092, 78.16227488, 60.74138631, 44.35000943, 98.20291086,\n",
       "       70.89554138, 21.87304154, 16.74882981, 53.87654731, 31.34207882,\n",
       "       91.15369974,  8.62556798, 31.40740298, 21.91373619, 73.66662295,\n",
       "       82.85403649, 74.4564463 , 17.75370379, 85.84531959,  0.55124119,\n",
       "       35.76431697, 95.31482489, 94.17763861,  2.30490127, 67.3015997 ])"
      ]
     },
     "execution_count": 48,
     "metadata": {},
     "output_type": "execute_result"
    }
   ],
   "source": [
    "x_"
   ]
  },
  {
   "attachments": {},
   "cell_type": "markdown",
   "metadata": {},
   "source": [
    "Get Least Squares "
   ]
  },
  {
   "cell_type": "code",
   "execution_count": 65,
   "metadata": {},
   "outputs": [
    {
     "name": "stdout",
     "output_type": "stream",
     "text": [
      "z = 0.7373453678058596 x + 1.7321286007863401 y + 4.593681340255226\n"
     ]
    }
   ],
   "source": [
    "print(\"z =\", lsq.a, \"x +\", lsq.b, \"y +\", lsq.c)"
   ]
  },
  {
   "attachments": {},
   "cell_type": "markdown",
   "metadata": {},
   "source": [
    "RANSAC Fitting"
   ]
  },
  {
   "cell_type": "code",
   "execution_count": 66,
   "metadata": {},
   "outputs": [],
   "source": [
    "ransacc = RANSAC(model = Least_Square(), \n",
    "                 loss_fun = sel,\n",
    "                 n = 3,\n",
    "                 k = 1000,\n",
    "                 t = 5\n",
    "                )"
   ]
  },
  {
   "cell_type": "code",
   "execution_count": 67,
   "metadata": {},
   "outputs": [
    {
     "data": {
      "text/plain": [
       "<__main__.RANSAC at 0x1d0876b8ca0>"
      ]
     },
     "execution_count": 67,
     "metadata": {},
     "output_type": "execute_result"
    }
   ],
   "source": [
    "ransacc.fit_3d(x, y, z)"
   ]
  },
  {
   "cell_type": "code",
   "execution_count": 68,
   "metadata": {},
   "outputs": [
    {
     "data": {
      "text/plain": [
       "(14,)"
      ]
     },
     "execution_count": 68,
     "metadata": {},
     "output_type": "execute_result"
    }
   ],
   "source": [
    "ransacc.z_inliers.shape"
   ]
  },
  {
   "attachments": {},
   "cell_type": "markdown",
   "metadata": {},
   "source": [
    "Check RANSAC's parameters"
   ]
  },
  {
   "cell_type": "code",
   "execution_count": 69,
   "metadata": {},
   "outputs": [
    {
     "name": "stdout",
     "output_type": "stream",
     "text": [
      "z =  0.9394201939247965 X + 1.828894853829984 Y + 11.027610455502142\n"
     ]
    }
   ],
   "source": [
    "print(\"z = \", ransacc.bestFit.a,\"X +\", ransacc.bestFit.b,\"Y +\", ransacc.bestFit.c)"
   ]
  }
 ],
 "metadata": {
  "kernelspec": {
   "display_name": "venv",
   "language": "python",
   "name": "python3"
  },
  "language_info": {
   "codemirror_mode": {
    "name": "ipython",
    "version": 3
   },
   "file_extension": ".py",
   "mimetype": "text/x-python",
   "name": "python",
   "nbconvert_exporter": "python",
   "pygments_lexer": "ipython3",
   "version": "3.10.11"
  },
  "orig_nbformat": 4
 },
 "nbformat": 4,
 "nbformat_minor": 2
}
